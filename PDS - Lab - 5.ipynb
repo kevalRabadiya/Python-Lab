{
 "cells": [
  {
   "cell_type": "markdown",
   "metadata": {
    "id": "5IxH57pmG-GY"
   },
   "source": [
    "\n",
    "___\n",
    "\n",
    "<a href='https://www.darshan.ac.in/'> <img src='https://gtu.darshan.ac.in/Upload/Logo/DIET_Logo.svg' /></a>\n",
    "___\n",
    "<pre>\n",
    "<center><b>Python for Data Science - 3150713</b></center>\n",
    "<center><b>Lab - 5</b></center>    \n",
    "<pre>"
   ]
  },
  {
   "cell_type": "markdown",
   "metadata": {
    "id": "_FHUM-CHG-Gd"
   },
   "source": [
    "# 1)\tScrape the data of Faculty and news data from darshan university website.\n",
    "\n"
   ]
  },
  {
   "cell_type": "code",
   "execution_count": 1,
   "metadata": {
    "id": "ybLtCnveG-Ge",
    "outputId": "092082a0-6010-4ee1-fd15-376801468c73"
   },
   "outputs": [
    {
     "name": "stdout",
     "output_type": "stream",
     "text": [
      "Dr. Gopi Sanghani\n",
      "Dr. Nilesh Gambhava\n",
      "Dr. Pradyumansinh Jadeja\n",
      "Prof. Maulik Trivedi\n",
      "Prof. Dixita Kagathara\n",
      "Prof. Rupesh Vaishnav\n",
      "Prof. Swati Sharma\n",
      "Prof. Arjun Bala\n",
      "Prof. Mayur Padia\n",
      "Prof. Vijay Shekhat\n",
      "Prof. Naimish Vadodariya\n",
      "Prof. UmeshKumar Thoriya\n",
      "Prof. Jayesh Vagadiya\n",
      "Prof. Krunal Vyas\n",
      "Prof. Jay Dhamsaniya\n",
      "Prof. Mehul Bhundiya\n",
      "Prof. Vaseem Ghada\n",
      "Prof. Hemang Chath\n",
      "Prof. Charvin Kothia\n",
      "Prof. Madhuresh Fichadiya\n",
      "Prof. Vishal Kansagara\n",
      "Prof. Dharmik Vasiyani\n",
      "Prof. Shruti Maniar\n",
      "Prof. Bhushan Joshi\n",
      "Prof. Devangi Kotak\n",
      "Prof. Ekta Gevariya\n",
      "Prof. Dolly Doshi\n",
      "Prof. KISHANKUMAR  JOGI\n"
     ]
    }
   ],
   "source": [
    "import requests\n",
    "import bs4\n",
    "data = requests.get('https://www.darshan.ac.in/engineering/computer/faculty')\n",
    "\n",
    "soap = bs4.BeautifulSoup(data.text,'html.parser')\n",
    "\n",
    "allFac = soap.select(\"body > main > div:nth-child(5) > div > div > div.col-lg-8.col-xl-9.g-font-size-14 > div > div\")\n",
    "\n",
    "\n",
    "for f in allFac:\n",
    "    name = f.select(\"h2\")[0].text.strip()\n",
    "    print(name)"
   ]
  },
  {
   "cell_type": "markdown",
   "metadata": {},
   "source": [
    "# 2) Scrape the data of student placement from darshan university website."
   ]
  },
  {
   "cell_type": "code",
   "execution_count": 3,
   "metadata": {},
   "outputs": [
    {
     "name": "stdout",
     "output_type": "stream",
     "text": [
      "KATHANLUNAGARIYA 20.00 Lac\n",
      "DHAVALBERA 10.00 Lac\n",
      "SOHAMJOSHI 8.00-9.00 Lac\n",
      "IKSHIKACHOTAI 8.00-9.00 Lac\n",
      "DRASHTIATKOTIYA 8.00-9.00 Lac\n",
      "SWAPNILKATHIRIYA 6.00-7.00 Lac\n",
      "MIRAL SANGANI 6.00-7.00 Lac\n",
      "SURAJKUSHVAHA 6.00-7.00 Lac\n",
      "DRASHTIKANSAGARA 6.00-7.00 Lac\n",
      "SMITPIPARAVA 6.00-7.00 Lac\n",
      "RAJANPANDYA 6.00-7.00 Lac\n",
      "VATSALPATEL 6.00 Lac\n",
      "MIHIRKHUNT 4.80 Lac\n",
      "SUNNY MARTHAK 4.80 Lac\n",
      "JAYGOHEL 4.80 Lac\n",
      "ABHAYCHOTHANI 4.80 Lac\n",
      "KHYATIUPADHYAY 4.80 Lac\n",
      "NIYANTAAAMBALIYA 4.80 Lac\n",
      "SHREYGANDHI 4.80 Lac\n",
      "KRUTIBHIMANI 4.32 - 4.80 Lac\n",
      "SHREYAKANANI 4.32 - 4.80 Lac\n",
      "RUSHIKKARAVADIYA 4.32 - 4.80 Lac\n",
      "JENILVASOYA 4.32 - 4.80 Lac\n",
      "VASUDEDAKIYA 4.32 - 4.80 Lac\n",
      "SMIT VAGHASIYA 4.50 Lac\n",
      "MILANBHALODIYA 4.50 Lac\n",
      "RUSHITA SAVALIYA 4.50 Lac\n",
      "KASHYAPGINOYA 4.50 Lac\n",
      "SAVANSORATHIYA 4.50 Lac\n",
      "DIPALIBENBHUVA 4.50 Lac\n",
      "GAURAVVALA 4.20 Lac\n",
      "BHAVYLADANI 4.20 Lac\n",
      "VANSHILPATEL 4.20 Lac\n",
      "JEET PATEL 4.20 Lac\n",
      "SHUBHAMSHAH 4.20 Lac\n",
      "RADHIKARANGANI 4.20 Lac\n",
      "BURHANMAKDA 4.20 Lac\n",
      "OMGAJERA 4.20 Lac\n",
      "JAHNAVIDARANIA 4.20 Lac\n",
      "MAYURDHWAJSINHGOHIL 4.20 Lac\n",
      "BHAVISHAPANJWANI 4.20 Lac\n",
      "HIMANSHULADVA 4.20 Lac\n",
      "YASHSAVALIYA 4.20 Lac\n",
      "DARSHITKUMARGADHIYA 4.20 Lac\n",
      "KHUSHIDADHANIYA 4.20 Lac\n",
      "DIVYANSHURANPARIA 4.20 Lac\n",
      "CHINTANKANSAGARA 4.20 Lac\n",
      "KENILMENDAPARA 4.20 Lac\n",
      "NENCYMAKADIA 4.20 Lac\n",
      "JAYSOLANKI 4.20 Lac\n",
      "NAYANMEVA 4.20 Lac\n",
      "TEJMODI 4.20 Lac\n",
      "HASTIJASANI 4.20 Lac\n",
      "RAJLAKKAD 4.20 Lac\n",
      "VIVEKPATORIYA 4.00 Lac\n",
      "VANDITJOSHI 4.00 Lac\n",
      "AKASHPAMBHAR 4.00 Lac\n",
      "DHARMIKPARMAR 4.00 Lac\n",
      "SEJALGUPTA 4.00 Lac\n",
      "KEVINMUNGRA 4.00 Lac\n",
      "HARSHALKHAMBHADIYA 4.00 Lac\n",
      "HEMALIBEN SANANDIYA 4.00 Lac\n",
      "PRASADMEHTA 4.00 Lac\n",
      "PULINDIDHANESHA 4.00 Lac\n",
      "JAYKUMARMANSURIYA 4.00 Lac\n",
      "ISHANBHATT 4.00 Lac\n",
      "HARDIKCHOKSI 4.00 Lac\n",
      "BURHANBHARMAL 4.00 Lac\n",
      "DARSHIT SHAH 4.00 Lac\n",
      "KEVANGHORECHA 3.50-4.50 Lac\n",
      "JANVIBAHENJANI 3.50-4.50 Lac\n",
      "NAKSHIKALOLIA 4.00 Lac\n",
      "SHREYAOGANJA 4.00 Lac\n",
      "JAYDEEPMITHANI 4.00 Lac\n",
      "NILONI SONI 4.00 Lac\n",
      "ANURAGPINDORIYA 4.00 Lac\n",
      "DHAVAL GOHEL 4.00 Lac\n",
      "DHRUVKUNDALIYA 4.00 Lac\n",
      "RUTULSORATHIYA 4.00 Lac\n",
      "ISHAVAGHAMSHI 4.00 Lac\n",
      "DHRUVILDOBARIYA 4.00 Lac\n",
      "SHIVAMNANDA 4.00 Lac\n",
      "RINKLEADVANI 4.00 Lac\n",
      "PRIYAMODI 4.00 Lac\n",
      "PARTHDAMANI 4.00 Lac\n",
      "KRUSHNAJOSHI 3.00-5.00 Lac\n",
      "DEVANSHIMAKHECHA 3.00-5.00 Lac\n",
      "SMITKUMARPADSUMBIYA 3.00-5.00 Lac\n",
      "DIVYTHAKRAR 3.00-5.00 Lac\n",
      "VATSALBABARIYA 3.00-5.00 Lac\n",
      "SMITMESHVANIYA 3.00-5.00 Lac\n",
      "URMILPARSANIYA 3.00-5.00 Lac\n",
      "VIRAJBUSA 4.00 Lac\n",
      "MONIKABENDETROJA 4.00 Lac\n",
      "ABHAYKAMANI 3.00-4.80 Lac\n",
      "VARUNKESARIA 3.84 Lac\n",
      "VIVEKPARMAR 3.60-4.00 Lac\n",
      "DEVANGMEHTA 3.50 - 4.00 Lac\n",
      "KARANDAVDA 3.50 - 4.00 Lac\n",
      "DIGVIJAYNAKUM 3.50 - 4.00 Lac\n",
      "JAYDEVCHOTAI 3.50 - 4.00 Lac\n",
      "HARSHILDHOLAKIYA 3.50 - 4.00 Lac\n",
      "DARSHAYBHAYANI 3.50 - 4.00 Lac\n",
      "DEEPKANANI 3.50 - 4.00 Lac\n",
      "PARTHPANDYA 3.50 - 4.00 Lac\n",
      "DARSHANKANGAD 3.72 Lac\n",
      "SAHILVASANI 3.60 Lac\n",
      "SAKSHIBENPATEL 3.60 Lac\n",
      "SHYAMKADECHA 3.60 Lac\n",
      "PRARTHANAKARIYA 3.60 Lac\n",
      "DHAVALDOBARIYA 3.50 Lac\n",
      "HARSHALGAMI 3.50 Lac\n",
      "KALPGORECHA 3.50 Lac\n",
      "TIRTHANAKANSAGARA 3.50 Lac\n",
      "KEVINKANZARIYA 3.50 Lac\n",
      "SAHILKUMARKIKANI 3.50 Lac\n",
      "DHRUV PARMAR 3.50 Lac\n",
      "VIVEKPESHAVARIYA 3.50 Lac\n",
      "JAY PIPALIYA 3.50 Lac\n",
      "BHARGAVKUMARVACHHANI 3.50 Lac\n",
      "KEVALSARDHARA 3.50 Lac\n",
      "CHINTANKUMARSAKHIYA 3.50 Lac\n",
      "RUSHIKKUMARSUTARIYA 3.00-3.50 Lac\n",
      "RAHULSAVANI 3.00 Lac\n",
      "RITIKACHAUHAN 3.00 Lac\n",
      "RIDDHIPARMAR 3.00 Lac\n",
      "DHRUVIKANERIYA 3.00 Lac\n",
      "DHAIVATVAGHELA 3.00 Lac\n",
      "YASHJANANI 3.00 Lac\n",
      "DAXITBHUPTANI 3.00 Lac\n",
      "VISHWASADARIYA 3.00 Lac\n",
      "SAGARTANK 3.00 Lac\n",
      "JEELDETROJA Confidential\n",
      "VIVEKDUBARIYA Confidential\n",
      "PRINCEFALDU Confidential\n",
      "RUSHIKDARANIYA Confidential\n",
      "ISHITVASOYA 2.64 Lac\n",
      "KRUNALPATEL 2.64 Lac\n"
     ]
    },
    {
     "ename": "IndexError",
     "evalue": "list index out of range",
     "output_type": "error",
     "traceback": [
      "\u001b[1;31m---------------------------------------------------------------------------\u001b[0m",
      "\u001b[1;31mIndexError\u001b[0m                                Traceback (most recent call last)",
      "Cell \u001b[1;32mIn [3], line 11\u001b[0m\n\u001b[0;32m      9\u001b[0m \u001b[38;5;28;01mfor\u001b[39;00m f \u001b[38;5;129;01min\u001b[39;00m allData:\n\u001b[0;32m     10\u001b[0m     name \u001b[38;5;241m=\u001b[39m f\u001b[38;5;241m.\u001b[39mselect(\u001b[38;5;124m\"\u001b[39m\u001b[38;5;124mh2\u001b[39m\u001b[38;5;124m\"\u001b[39m)[\u001b[38;5;241m0\u001b[39m]\u001b[38;5;241m.\u001b[39mtext\u001b[38;5;241m.\u001b[39mstrip()\n\u001b[1;32m---> 11\u001b[0m     ctc \u001b[38;5;241m=\u001b[39m \u001b[43mf\u001b[49m\u001b[38;5;241;43m.\u001b[39;49m\u001b[43mselect\u001b[49m\u001b[43m(\u001b[49m\u001b[38;5;124;43m\"\u001b[39;49m\u001b[38;5;124;43mspan\u001b[39;49m\u001b[38;5;124;43m\"\u001b[39;49m\u001b[43m)\u001b[49m\u001b[43m[\u001b[49m\u001b[38;5;241;43m1\u001b[39;49m\u001b[43m]\u001b[49m\u001b[38;5;241m.\u001b[39mtext\u001b[38;5;241m.\u001b[39mstrip()\n\u001b[0;32m     12\u001b[0m     \u001b[38;5;28mprint\u001b[39m(name , ctc)\n",
      "\u001b[1;31mIndexError\u001b[0m: list index out of range"
     ]
    }
   ],
   "source": [
    "import requests\n",
    "import bs4\n",
    "data = requests.get('https://www.darshan.ac.in/placement/list/engineering/computer/2023')\n",
    "\n",
    "soap = bs4.BeautifulSoup(data.text,'html.parser')\n",
    "\n",
    "allData = soap.select(\"body > main > div:nth-child(5) > div > div > div.col-lg-8.col-xl-9.g-font-size-14.g-mb-30 > div.g-pt-20 > div.row.g-px-4.g-px-5--sm.g-px-5--md > div\")\n",
    "\n",
    "for f in allData:\n",
    "    name = f.select(\"h2\")[0].text.strip()\n",
    "    ctc = f.select(\"span\")[1].text.strip()\n",
    "    print(name , ctc)\n"
   ]
  },
  {
   "cell_type": "markdown",
   "metadata": {},
   "source": [
    "# Write a python program to perform database operations on database using mysql and sqlite3.\n",
    "1)\t Display Student table from database.<br>\n",
    "2)\tInsert new recode into student table by user.\n",
    "\n"
   ]
  },
  {
   "cell_type": "code",
   "execution_count": null,
   "metadata": {},
   "outputs": [],
   "source": []
  }
 ],
 "metadata": {
  "colab": {
   "name": "Python (Lab - 03) (List) - Payal Parmar.ipynb",
   "provenance": []
  },
  "kernelspec": {
   "display_name": "Python 3.10.7 64-bit",
   "language": "python",
   "name": "python3"
  },
  "language_info": {
   "codemirror_mode": {
    "name": "ipython",
    "version": 3
   },
   "file_extension": ".py",
   "mimetype": "text/x-python",
   "name": "python",
   "nbconvert_exporter": "python",
   "pygments_lexer": "ipython3",
   "version": "3.10.7"
  },
  "vscode": {
   "interpreter": {
    "hash": "26de051ba29f2982a8de78e945f0abaf191376122a1563185a90213a26c5da77"
   }
  }
 },
 "nbformat": 4,
 "nbformat_minor": 1
}
