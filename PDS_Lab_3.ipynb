{
 "cells": [
  {
   "cell_type": "markdown",
   "metadata": {
    "id": "mzUfu_4vSCd9"
   },
   "source": [
    "\n",
    "___\n",
    "\n",
    "<a href='https://www.darshan.ac.in/'> <img src='https://gtu.darshan.ac.in/Upload/Logo/DIET_Logo.svg' /></a>\n",
    "___\n",
    "<pre>\n",
    "<center><b>Python for Data Science - 3150713</b></center>\n",
    "<center><b>Lab - 3</b></center>    \n",
    "<pre>"
   ]
  },
  {
   "cell_type": "markdown",
   "metadata": {
    "id": "MD_xAArnSCeA"
   },
   "source": [
    "# 01) WAP to check given string is palindrome or not."
   ]
  },
  {
   "cell_type": "code",
   "execution_count": null,
   "metadata": {
    "colab": {
     "base_uri": "https://localhost:8080/",
     "height": 51
    },
    "id": "Yt6w1k8tSCeC",
    "outputId": "fccefea5-25e2-46e8-a991-78817b610614"
   },
   "outputs": [],
   "source": [
    "str=input(\"Enter String : \")\n",
    "\n",
    "revstr=str[::-1]\n",
    "\n",
    "if(str==revstr):\n",
    "    print(\"String Is Palindrome\")\n",
    "else:\n",
    "    print(\"String Is Not Palindrome\")    "
   ]
  },
  {
   "cell_type": "markdown",
   "metadata": {
    "id": "vrUVzoePSCeM"
   },
   "source": [
    "# 02) WAP to reverse the word in given string."
   ]
  },
  {
   "cell_type": "code",
   "execution_count": null,
   "metadata": {
    "colab": {
     "base_uri": "https://localhost:8080/",
     "height": 51
    },
    "id": "slaAj57ZSCeO",
    "outputId": "7ab7a8a6-bdee-4b4d-e87d-19c765316c74"
   },
   "outputs": [],
   "source": [
    "str=input(\"Enter String : \")\n",
    "\n",
    "revstr=str[::-1]\n",
    "\n",
    "print(revstr)"
   ]
  },
  {
   "cell_type": "markdown",
   "metadata": {
    "id": "Z9HfDENfSCeW"
   },
   "source": [
    "# 03) WAP to remove ith character from given string."
   ]
  },
  {
   "cell_type": "code",
   "execution_count": null,
   "metadata": {
    "colab": {
     "base_uri": "https://localhost:8080/",
     "height": 68
    },
    "id": "r0eLDMfPSCeY",
    "outputId": "e94c3a55-c9f2-4a8b-f02d-0244113d3f7d"
   },
   "outputs": [],
   "source": [
    "str=input(\"Enter String : \")\n",
    "i=int(input(\"Enter ith Position : \"))\n",
    "\n",
    "new_str=str.replace(str[i],'')\n",
    "\n",
    "print(\"New String Is : \",new_str)"
   ]
  },
  {
   "cell_type": "markdown",
   "metadata": {
    "id": "-2b6ZObZSCeg"
   },
   "source": [
    "# 04) WAP to find length of String without using len function."
   ]
  },
  {
   "cell_type": "code",
   "execution_count": 2,
   "metadata": {
    "colab": {
     "base_uri": "https://localhost:8080/",
     "height": 68
    },
    "id": "VrDwVQCSSCeh",
    "outputId": "0de7579e-c89b-4602-af28-e202391f7411"
   },
   "outputs": [
    {
     "name": "stdout",
     "output_type": "stream",
     "text": [
      "0\n"
     ]
    }
   ],
   "source": [
    "str=input(\"Enter String : \")\n",
    "len=0\n",
    "\n",
    "for i in str:\n",
    "    len+=1\n",
    "    \n",
    "print(len)"
   ]
  },
  {
   "cell_type": "markdown",
   "metadata": {
    "id": "NTlJQIiXSCep"
   },
   "source": [
    "# 05) WAP to print even length word in string"
   ]
  },
  {
   "cell_type": "code",
   "execution_count": 3,
   "metadata": {
    "colab": {
     "base_uri": "https://localhost:8080/",
     "height": 68
    },
    "id": "R9jyfF_xSCer",
    "outputId": "b28c6203-d29b-452a-c25a-1afce5924381"
   },
   "outputs": [],
   "source": [
    "str=input(\"Enter String : \")\n",
    "len=0\n",
    "\n",
    "x=str.split()\n",
    "\n",
    "for i in x:\n",
    "    len=0\n",
    "    for j in i:\n",
    "        len+=1\n",
    "        \n",
    "    if(len%2==0):\n",
    "        print(i)"
   ]
  },
  {
   "cell_type": "markdown",
   "metadata": {
    "id": "Z27bj9VNSCe3"
   },
   "source": [
    "# 06) WAP to count numbers of vowels in given string."
   ]
  },
  {
   "cell_type": "code",
   "execution_count": null,
   "metadata": {
    "colab": {
     "base_uri": "https://localhost:8080/",
     "height": 51
    },
    "id": "C7vvIPR0SCe5",
    "outputId": "01a3a596-0167-47f7-a8d3-36a65a26bf1c"
   },
   "outputs": [],
   "source": [
    "str=input(\"Enter String : \")\n",
    "vowels=0\n",
    "\n",
    "for i in str:\n",
    "    if(i=='A' or i=='E' or i=='I' or i=='O' or i=='U' or i=='a' or i=='e' or i=='i' or i=='o' or i=='u'):\n",
    "        vowels+=1\n",
    "\n",
    "print(\"Number Of Vowels In String Is : \",vowels)"
   ]
  },
  {
   "cell_type": "markdown",
   "metadata": {
    "id": "F17WR4tOSCfE"
   },
   "source": [
    "# 07) WAP which accepts a string as input to print \"Yes\" if the string is \"yes\" or \"YES\" or \"Yes\", otherwise print \"No\"."
   ]
  },
  {
   "cell_type": "code",
   "execution_count": null,
   "metadata": {
    "colab": {
     "base_uri": "https://localhost:8080/",
     "height": 51
    },
    "id": "9t4piyJUSCfF",
    "outputId": "0d8da18e-29a3-457a-c29c-b8e03fc3586f"
   },
   "outputs": [],
   "source": [
    "str=input(\"Enter String : \")\n",
    "\n",
    "if(str=='yes' or str=='Yes' or str=='YES'):\n",
    "    print(\"Yes\")\n",
    "else:\n",
    "    print(\"No\")"
   ]
  },
  {
   "cell_type": "markdown",
   "metadata": {
    "id": "4Mep9CIaSCfN"
   },
   "source": [
    "# 08) WAP to check whether string contains any special character or not."
   ]
  },
  {
   "cell_type": "code",
   "execution_count": 5,
   "metadata": {
    "colab": {
     "base_uri": "https://localhost:8080/",
     "height": 51
    },
    "id": "zdXPIZbVSCfO",
    "outputId": "072da85e-5b94-4622-9292-ff398fd6ab08"
   },
   "outputs": [
    {
     "name": "stdout",
     "output_type": "stream",
     "text": [
      "String Contains Special Character.\n"
     ]
    }
   ],
   "source": [
    "str=input(\"Enter String : \")\n",
    "\n",
    "flag=True\n",
    "\n",
    "for i in str:\n",
    "    if((ord(i)>=32 and ord(i)<=47) or (ord(i)>=58 and ord(i)<=64) or (ord(i)>=91 and ord(i)<=96) or (ord(i)>=123 and ord(i)<=126)):\n",
    "        flag=False\n",
    "\n",
    "if(flag==False):\n",
    "    print(\"String Contains Special Character.\")\n",
    "else: \n",
    "    print(\"String Not Contains Special Character.\")"
   ]
  },
  {
   "cell_type": "markdown",
   "metadata": {
    "id": "guqow8TPSCfV"
   },
   "source": [
    "\n",
    "\n",
    "```\n",
    "# This is formatted as code\n",
    "```\n",
    "\n",
    "# 09) WAP to generate random strings until a given string is generated."
   ]
  },
  {
   "cell_type": "code",
   "execution_count": null,
   "metadata": {
    "colab": {
     "base_uri": "https://localhost:8080/",
     "height": 1000
    },
    "id": "_Yrsl4DLSCfX",
    "outputId": "3f09060d-1edb-48b4-a8f9-de79c96c500d"
   },
   "outputs": [],
   "source": [
    "import random\n",
    "import string\n",
    "\n",
    "str=input(\"Enter String : \")\n",
    "count=0\n",
    "\n",
    "for i in str:\n",
    "    count+=1\n",
    "\n",
    "newString=\"\"\n",
    "\n",
    "while(str!=newString):\n",
    "    newString=\"\".join(random.choices(string.ascii_lowercase, k=count))\n",
    "    print(newString)"
   ]
  },
  {
   "cell_type": "markdown",
   "metadata": {
    "id": "qefYXvY4SCfe"
   },
   "source": [
    "# 10) WAP to check given string data in binary formats or not. "
   ]
  },
  {
   "cell_type": "code",
   "execution_count": 2,
   "metadata": {
    "colab": {
     "base_uri": "https://localhost:8080/",
     "height": 51
    },
    "id": "aDicrOWBSCff",
    "outputId": "cb1e58a7-ac7b-4d30-b4a0-7b548736e79b"
   },
   "outputs": [
    {
     "name": "stdout",
     "output_type": "stream",
     "text": [
      "Enter String : 121\n",
      "String Data Is Not In Binary Format.\n"
     ]
    }
   ],
   "source": [
    "str=input(\"Enter String : \")\n",
    "flag=True\n",
    "\n",
    "if(len(str)<=8):\n",
    "    for i in str:\n",
    "        if(i=='1' or i=='0'):\n",
    "            flag=True\n",
    "        else:\n",
    "            flag=False\n",
    "            break\n",
    "            \n",
    "    if(flag==True):\n",
    "        print(\"String Data Is In Binary Format.\")\n",
    "    else:\n",
    "        print(\"String Data Is Not In Binary Format.\")\n",
    "        \n",
    "else:\n",
    "    print(\"String Data Is Not In Binary Format.\")"
   ]
  },
  {
   "cell_type": "markdown",
   "metadata": {
    "id": "Xna_bMSUSCfn"
   },
   "source": [
    "# 11) WAP to find all duplicate characters in string."
   ]
  },
  {
   "cell_type": "code",
   "execution_count": null,
   "metadata": {
    "colab": {
     "base_uri": "https://localhost:8080/",
     "height": 85
    },
    "id": "JtiOqKTGSCfo",
    "outputId": "8ffc10d2-f9f5-4fb3-a28e-ee39397c5ee4"
   },
   "outputs": [],
   "source": [
    "str=input(\"Enter String : \")\n",
    "count=1\n",
    "\n",
    "for i in range(0,len(str)):\n",
    "    count=0\n",
    "    for j in range(i+1,len(str)):\n",
    "        if(str[j]==str[i]):\n",
    "            count+=1\n",
    "            \n",
    "    if(count>=1):\n",
    "        print(str[i],end=\", \")"
   ]
  },
  {
   "cell_type": "markdown",
   "metadata": {
    "id": "-LHMKDd1SCfw"
   },
   "source": [
    "# 12) WAP to read an ASCII string and to convert it to a Unicode string encoded by utf-8."
   ]
  },
  {
   "cell_type": "code",
   "execution_count": 5,
   "metadata": {
    "id": "aXvJsiOsSCfy",
    "scrolled": true
   },
   "outputs": [
    {
     "name": "stdout",
     "output_type": "stream",
     "text": [
      "Enter String : dfdf\n",
      "The string is: dfdf\n",
      "The encoded version is: b'dfdf'\n"
     ]
    }
   ],
   "source": [
    "# string = 'pythön!'\n",
    "string=input(\"Enter String : \")\n",
    "\n",
    "print('The string is:', string)\n",
    "\n",
    "# default encoding to utf-8\n",
    "string_utf = string.encode()\n",
    "\n",
    "print('The encoded version is:', string_utf)"
   ]
  },
  {
   "cell_type": "markdown",
   "metadata": {
    "id": "_Zg5TbMPSCf5"
   },
   "source": [
    "# 13) WAP to do String slicing\n",
    "                 a)\tLeft (Or anticlockwise) rotate the given string by d elements (where d <= n).\n",
    "                 b)\tRight (Or clockwise) rotate the given string by d elements (where d <= n).\n"
   ]
  },
  {
   "cell_type": "code",
   "execution_count": null,
   "metadata": {
    "id": "pxYGUQrsSCf7"
   },
   "outputs": [],
   "source": []
  }
 ],
 "metadata": {
  "colab": {
   "collapsed_sections": [],
   "name": "180540107027_(String) - Jayraj Chavada.ipynb",
   "provenance": []
  },
  "kernelspec": {
   "display_name": "Python 3.9.5 64-bit (system)",
   "language": "python",
   "name": "python3"
  },
  "language_info": {
   "codemirror_mode": {
    "name": "ipython",
    "version": 3
   },
   "file_extension": ".py",
   "mimetype": "text/x-python",
   "name": "python",
   "nbconvert_exporter": "python",
   "pygments_lexer": "ipython3",
   "version": "3.9.5"
  },
  "vscode": {
   "interpreter": {
    "hash": "ae8ad0c4264aacd7f717870b4472dd60b03c4de3037ace0db2cb0e90b23e8add"
   }
  }
 },
 "nbformat": 4,
 "nbformat_minor": 1
}
