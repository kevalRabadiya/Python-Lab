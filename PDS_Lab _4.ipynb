{
 "cells": [
  {
   "cell_type": "markdown",
   "metadata": {
    "id": "5IxH57pmG-GY"
   },
   "source": [
    "\n",
    "___\n",
    "\n",
    "<a href='https://www.darshan.ac.in/'> <img src='https://gtu.darshan.ac.in/Upload/Logo/DIET_Logo.svg' /></a>\n",
    "___\n",
    "<pre>\n",
    "<center><b>Python for Data Science - 3150713</b></center>\n",
    "<center><b>Lab - 4</b></center>    \n",
    "<pre>"
   ]
  },
  {
   "cell_type": "markdown",
   "metadata": {
    "id": "_FHUM-CHG-Gd"
   },
   "source": [
    "# 01) WAP to find sum of all the elements in List."
   ]
  },
  {
   "cell_type": "code",
   "execution_count": null,
   "metadata": {
    "id": "ybLtCnveG-Ge",
    "outputId": "092082a0-6010-4ee1-fd15-376801468c73"
   },
   "outputs": [],
   "source": [
    "list=[]\n",
    "num=int(input(\"Enter Size Of List : \"))\n",
    "sum=0\n",
    "\n",
    "for i in range(0,num):\n",
    "    ele=int(input(\"Enter Element : \"))\n",
    "    list.append(ele)\n",
    "    sum+=ele\n",
    "\n",
    "print(\"Sum Is : \",sum)"
   ]
  },
  {
   "cell_type": "markdown",
   "metadata": {
    "id": "6-sXb9PSG-Gh"
   },
   "source": [
    "# 02) WAP to find largest element in a List."
   ]
  },
  {
   "cell_type": "code",
   "execution_count": null,
   "metadata": {
    "id": "oTUGWtFZG-Gi",
    "outputId": "bbba26cc-04aa-40ad-c902-f976ee34d20a"
   },
   "outputs": [],
   "source": [
    "list=[]\n",
    "num=int(input(\"Enter Size Of List : \"))\n",
    "\n",
    "for i in range(0,num):\n",
    "    ele=int(input(\"Enter Element : \"))\n",
    "    list.append(ele)\n",
    "    \n",
    "larg=list[0]\n",
    "for i in range(0,num):\n",
    "    if(larg<list[i]):\n",
    "        larg=list[i]\n",
    "\n",
    "print(\"Largest Element Is : \",larg)"
   ]
  },
  {
   "cell_type": "markdown",
   "metadata": {
    "id": "1J0WHwUNG-Gj"
   },
   "source": [
    "# 03) WAP to split the List into two and append the first part to the end."
   ]
  },
  {
   "cell_type": "code",
   "execution_count": null,
   "metadata": {
    "id": "hXcf57rdG-Gk",
    "outputId": "fec29838-ef07-4033-92ad-49786f3c7efb"
   },
   "outputs": [],
   "source": [
    "list=[]\n",
    "num=int(input(\"Enter Size Of List : \"))\n",
    "\n",
    "for i in range(0,num):\n",
    "    ele=input(\"Enter Element : \")\n",
    "    list.append(ele)\n",
    "\n",
    "print(\"Before Append List : \")\n",
    "print(list)\n",
    "    \n",
    "print(\"Length Of List Is : \",len(list))\n",
    "index = int(input(\"Enter index : \"))\n",
    "\n",
    "if(index>=(-abs(len(list))) and index<=(len(list)-1)):\n",
    "    first_part = list[:index]\n",
    "    second_part = list[index:]\n",
    "    \n",
    "    print(\"After Append List : \")\n",
    "    print(second_part+first_part)\n",
    "else:\n",
    "    print(\"Invalid Index!!!\")"
   ]
  },
  {
   "cell_type": "markdown",
   "metadata": {
    "id": "q9WGqT_bG-Gl"
   },
   "source": [
    "# 04) WAP to interchange first and last element in list entered by a user."
   ]
  },
  {
   "cell_type": "code",
   "execution_count": 1,
   "metadata": {
    "id": "dPvM9W0dG-Gm",
    "outputId": "41637451-4895-4166-864e-0792ba7a356d"
   },
   "outputs": [
    {
     "name": "stdout",
     "output_type": "stream",
     "text": [
      "Enter Size Of List : 4\n",
      "Enter Element : 1\n",
      "Enter Element : 2\n",
      "Enter Element : 3\n",
      "Enter Element : 4\n",
      "Before InterChange List : \n",
      "['1', '2', '3', '4']\n",
      "After InterChange List : \n",
      "['4', '2', '3', '1']\n"
     ]
    }
   ],
   "source": [
    "list=[]\n",
    "num=int(input(\"Enter Size Of List : \"))\n",
    "\n",
    "for i in range(0,num):\n",
    "    ele=input(\"Enter Element : \")\n",
    "    list.append(ele)\n",
    "\n",
    "print(\"Before InterChange List : \")\n",
    "print(list)\n",
    "    \n",
    "list[0],list[-1]=list[-1],list[0]\n",
    "\n",
    "# index=len(list)\n",
    "\n",
    "# temp=list[0]\n",
    "# list[0]=list[index-1]\n",
    "# list[index-1]=temp\n",
    "\n",
    "print(\"After InterChange List : \")\n",
    "print(list)"
   ]
  },
  {
   "cell_type": "markdown",
   "metadata": {
    "id": "vfr11EOSG-Gn"
   },
   "source": [
    "# 05) WAP to interchange the elements on two positions entered by a user."
   ]
  },
  {
   "cell_type": "code",
   "execution_count": null,
   "metadata": {
    "id": "9AXXFjmXG-Go",
    "outputId": "2c0f53db-7071-41d3-bc03-af215bae7e21"
   },
   "outputs": [],
   "source": [
    "list=[]\n",
    "num=int(input(\"Enter Size Of List : \"))\n",
    "\n",
    "for i in range(0,num):\n",
    "    ele=input(\"Enter Element : \")\n",
    "    list.append(ele)\n",
    "\n",
    "print(\"Before InterChange List : \")\n",
    "print(list)\n",
    "\n",
    "print(\"Length Of List Is : \",len(list))\n",
    "index1 = int(input(\"Enter First index : \"))\n",
    "index2 = int(input(\"Enter Second index : \"))\n",
    "    \n",
    "if((index1>=(-abs(len(list))) and index1<=(len(list)-1)) or (index2>=(-abs(len(list))) and index2<=(len(list)-1))):\n",
    "    temp=list[index1]\n",
    "    list[index1]=list[index2]\n",
    "    list[index2]=temp\n",
    "\n",
    "    print(\"After InterChange List : \")\n",
    "    print(list)\n",
    "else:\n",
    "    print(\"Invalid Index!!!\")"
   ]
  },
  {
   "cell_type": "markdown",
   "metadata": {
    "id": "VABvkcqXG-Gp"
   },
   "source": [
    "# 06) WAP to remove Nth occurrence of the given word in the list entered by user."
   ]
  },
  {
   "cell_type": "code",
   "execution_count": null,
   "metadata": {
    "id": "e5YWmQ8RG-Gq",
    "outputId": "4d43d37c-a263-49c0-d713-eabe7029aceb"
   },
   "outputs": [],
   "source": [
    "list=[]\n",
    "num=int(input(\"Enter Size Of List : \"))\n",
    "\n",
    "for i in range(0,num):\n",
    "    ele=input(\"Enter Element : \")\n",
    "    list.append(ele)\n",
    "    \n",
    "print(list)\n",
    "\n",
    "newlist=[]\n",
    "count=0\n",
    "word=input(\"Enter word to remove: \")\n",
    "occurrence=int(input(\"Enter the occurrence to remove: \"))\n",
    "\n",
    "for i in list:\n",
    "    if(i==word):\n",
    "        count=count+1\n",
    "        if(count!=occurrence):\n",
    "            newlist.append(i)\n",
    "    else:\n",
    "        newlist.append(i)\n",
    "        \n",
    "if(count==0):\n",
    "    print(\"Item not found \")\n",
    "else: \n",
    "    print(\"The number of repetitions is: \",count)\n",
    "    print(\"Updated list is: \",newlist)"
   ]
  },
  {
   "cell_type": "markdown",
   "metadata": {
    "id": "Y7RN-OcVG-Gr"
   },
   "source": [
    "# 07) WAP to check whether given element exits in list or not."
   ]
  },
  {
   "cell_type": "code",
   "execution_count": null,
   "metadata": {
    "id": "hxzXNra_G-Gs",
    "outputId": "f17bd96d-32af-4d8f-bf58-fadadcab1110"
   },
   "outputs": [],
   "source": [
    "list=[]\n",
    "num=int(input(\"Enter Size Of List : \"))\n",
    "\n",
    "for i in range(0,num):\n",
    "    ele=input(\"Enter Element : \")\n",
    "    list.append(ele)\n",
    "    \n",
    "print(list)\n",
    "\n",
    "element=input(\"Enter Element : \")\n",
    "flag=True\n",
    "\n",
    "for i in list:\n",
    "    if(i==element):\n",
    "        flag=False\n",
    "        break\n",
    "\n",
    "if(flag==True):\n",
    "    print(\"Entered Element Is't Exist In The List.\")\n",
    "else:\n",
    "    print(\"Entered Element Is Exist In The List.\")    "
   ]
  },
  {
   "cell_type": "markdown",
   "metadata": {
    "id": "ykN1fAPrG-Gt"
   },
   "source": [
    "# 08) WAP to reverser the list entered by user."
   ]
  },
  {
   "cell_type": "code",
   "execution_count": null,
   "metadata": {
    "id": "GRPbL1LWG-Gu",
    "outputId": "370fee2d-7e89-441a-99ab-19f37e4414e7"
   },
   "outputs": [],
   "source": [
    "list=[]\n",
    "num=int(input(\"Enter Size Of List : \"))\n",
    "\n",
    "for i in range(0,num):\n",
    "    ele=input(\"Enter Element : \")\n",
    "    list.append(ele)\n",
    "\n",
    "print(\"Before Reverse List : \")\n",
    "print(list)\n",
    "\n",
    "print(\"After Reverse List : \")\n",
    "list.reverse()\n",
    "print(list)"
   ]
  },
  {
   "cell_type": "markdown",
   "metadata": {
    "id": "3QDjgOCTG-Gw"
   },
   "source": [
    "# 09) WAP to print all positive number in list entered by user."
   ]
  },
  {
   "cell_type": "code",
   "execution_count": null,
   "metadata": {
    "id": "g06Bs0oEG-Gw",
    "outputId": "a9d8bdd0-7035-4155-acae-7e275c71a36b"
   },
   "outputs": [],
   "source": [
    "list=[]\n",
    "num=int(input(\"Enter Size Of List : \"))\n",
    "\n",
    "for i in range(0,num):\n",
    "    ele=int(input(\"Enter Element : \"))\n",
    "    list.append(ele)\n",
    "    \n",
    "print(\"Positive Numbers Are : \")\n",
    "for i in list:\n",
    "    if(i>=0):\n",
    "        print(i,end=\", \")"
   ]
  },
  {
   "cell_type": "markdown",
   "metadata": {
    "id": "C0DzX7IYG-Gx"
   },
   "source": [
    "# 10) WAP to check if given array is monotonic or not."
   ]
  },
  {
   "cell_type": "code",
   "execution_count": null,
   "metadata": {
    "id": "2UHVeuNTG-Gy"
   },
   "outputs": [],
   "source": [
    "list=[]\n",
    "num=int(input(\"Enter Size Of List : \"))\n",
    "\n",
    "for i in range(0,num):\n",
    "    ele=int(input(\"Enter Element : \"))\n",
    "    list.append(ele)\n",
    "    \n",
    "inc=True\n",
    "dec=True\n",
    "\n",
    "for i in range(0,len(list)-1):\n",
    "    if(list[i] > list[i+1]):\n",
    "        inc=False\n",
    "        \n",
    "for i in range(0,len(list)-1):\n",
    "    if(list[i] < list[i+1]):\n",
    "        dec=False\n",
    "        \n",
    "if(inc==True):\n",
    "    print(\"Array Is Monotonic.\")\n",
    "elif(dec==True):\n",
    "    print(\"Array Is Monotonic.\")\n",
    "else:\n",
    "    print(\"Array Is Not Monotonic.\")"
   ]
  },
  {
   "cell_type": "markdown",
   "metadata": {
    "id": "TXeCXfFZG-Gz"
   },
   "source": [
    "# 11) WAP which takes 2 digits, X,Y as input and generates a 2-dimensional array of size X * Y. The element value in the i-th row and j-th column of the array should be i*j. Note: i=0,1.., X-1; j=0,1,¡­Y-1."
   ]
  },
  {
   "cell_type": "code",
   "execution_count": null,
   "metadata": {
    "id": "iA10lUgVG-G0"
   },
   "outputs": [],
   "source": [
    "# list1=[]\n",
    "# list2=[]\n",
    "# num1=int(input(\"Enter Size Of List1 : \"))\n",
    "# num2=int(input(\"Enter Size Of List2 : \"))\n",
    "\n",
    "# for i in range(0,num1):\n",
    "#     ele1=int(input(\"Enter Element For List1 : \"))\n",
    "#     list1.insert(i, ele1)\n",
    "    \n",
    "#     for j in range(1,num2):\n",
    "#         ele2=int(input(\"Enter Element For List2 : \"))\n",
    "#         list2.insert(j, ele2)\n",
    "\n",
    "# for i in range(0,num1):\n",
    "#     print(list1[i],end=\"\")\n",
    "    \n",
    "#     for j in range(1,num2):\n",
    "#         print(list2[j],end=\"\")\n",
    "    \n",
    "#     print(\"\")"
   ]
  },
  {
   "cell_type": "markdown",
   "metadata": {
    "id": "nCHxeKKfG-G1"
   },
   "source": [
    "# 12) WAP to find median of array."
   ]
  },
  {
   "cell_type": "code",
   "execution_count": 7,
   "metadata": {
    "id": "vicmGyv5G-G2"
   },
   "outputs": [
    {
     "name": "stdout",
     "output_type": "stream",
     "text": [
      "Enter Size Of List : 4\n",
      "Enter Element : 1\n",
      "Enter Element : 2\n",
      "Enter Element : 3\n",
      "Enter Element : 4\n",
      "Median Is :  3.5\n"
     ]
    }
   ],
   "source": [
    "list=[]\n",
    "num=int(input(\"Enter Size Of List : \"))\n",
    "\n",
    "for i in range(0,num):\n",
    "    ele=int(input(\"Enter Element : \"))\n",
    "    list.append(ele)\n",
    "    \n",
    "n=len(list)\n",
    "\n",
    "if(n%2==0):\n",
    "    median=((list[int(n/2)]) + (list[int((n/2)+1)]))/2\n",
    "else:\n",
    "    median=list[int((n+1)/2)]\n",
    "    \n",
    "print(\"Median Is : \",median)"
   ]
  },
  {
   "cell_type": "markdown",
   "metadata": {
    "id": "7M6h6L6pG-G3"
   },
   "source": [
    "# 13) Write a program that interchanges the odd and even elements of an array."
   ]
  },
  {
   "cell_type": "code",
   "execution_count": null,
   "metadata": {
    "id": "nqLeumgaG-G3"
   },
   "outputs": [],
   "source": []
  },
  {
   "cell_type": "markdown",
   "metadata": {
    "id": "wcb7jun0G-G4"
   },
   "source": [
    "# 14) WAP to find given number in the list and print the position of number using sequential search."
   ]
  },
  {
   "cell_type": "code",
   "execution_count": 17,
   "metadata": {
    "id": "KMemq0TQG-G4"
   },
   "outputs": [
    {
     "name": "stdout",
     "output_type": "stream",
     "text": [
      "Enter Size Of List : 4\n",
      "Enter Element : 1\n",
      "Enter Element : 2\n",
      "Enter Element : 3\n",
      "Enter Element : 4\n",
      "['1', '2', '3', '4']\n",
      "Enter Element : 2\n",
      "Entered Element Is Exist In The List And Position Of Number Is :  1\n"
     ]
    }
   ],
   "source": [
    "list=[]\n",
    "num=int(input(\"Enter Size Of List : \"))\n",
    "\n",
    "for i in range(0,num):\n",
    "    ele=input(\"Enter Element : \")\n",
    "    list.append(ele)\n",
    "    \n",
    "print(list)\n",
    "\n",
    "element=input(\"Enter Element : \")\n",
    "flag=True\n",
    "\n",
    "for i in list:\n",
    "    if(i==element):\n",
    "        flag=False\n",
    "        index=int(i)-1\n",
    "        break\n",
    "\n",
    "if(flag==True):\n",
    "    print(\"Entered Element Is't Exist In The List.\")\n",
    "else:\n",
    "    print(\"Entered Element Is Exist In The List And Position Of Number Is : \",index)    "
   ]
  },
  {
   "cell_type": "markdown",
   "metadata": {
    "id": "UcuL0Y0OG-G5"
   },
   "source": [
    "# 15) WAP to multiply two 3*3 matrix."
   ]
  },
  {
   "cell_type": "code",
   "execution_count": null,
   "metadata": {
    "id": "cuTT48YYG-G5"
   },
   "outputs": [],
   "source": []
  },
  {
   "cell_type": "markdown",
   "metadata": {
    "id": "rs7xIVBNG-G6"
   },
   "source": [
    "# 16) Write one line of Python code that returns list of even elements of the given list."
   ]
  },
  {
   "cell_type": "code",
   "execution_count": 16,
   "metadata": {
    "id": "RV1TlJwYG-G7"
   },
   "outputs": [
    {
     "ename": "TypeError",
     "evalue": "'list' object is not callable",
     "output_type": "error",
     "traceback": [
      "\u001b[1;31m---------------------------------------------------------------------------\u001b[0m",
      "\u001b[1;31mTypeError\u001b[0m                                 Traceback (most recent call last)",
      "Input \u001b[1;32mIn [16]\u001b[0m, in \u001b[0;36m<cell line: 3>\u001b[1;34m()\u001b[0m\n\u001b[0;32m      1\u001b[0m list1 \u001b[38;5;241m=\u001b[39m [\u001b[38;5;241m11\u001b[39m,\u001b[38;5;241m23\u001b[39m,\u001b[38;5;241m45\u001b[39m,\u001b[38;5;241m23\u001b[39m,\u001b[38;5;241m64\u001b[39m,\u001b[38;5;241m22\u001b[39m,\u001b[38;5;241m11\u001b[39m,\u001b[38;5;241m24\u001b[39m]\n\u001b[0;32m      2\u001b[0m \u001b[38;5;66;03m# lambda exp.\u001b[39;00m\n\u001b[1;32m----> 3\u001b[0m even_no \u001b[38;5;241m=\u001b[39m \u001b[38;5;28;43mlist\u001b[39;49m\u001b[43m(\u001b[49m\u001b[38;5;28;43mfilter\u001b[39;49m\u001b[43m(\u001b[49m\u001b[38;5;28;43;01mlambda\u001b[39;49;00m\u001b[43m \u001b[49m\u001b[43mx\u001b[49m\u001b[43m:\u001b[49m\u001b[43m \u001b[49m\u001b[43m(\u001b[49m\u001b[43mx\u001b[49m\u001b[43m \u001b[49m\u001b[38;5;241;43m%\u001b[39;49m\u001b[43m \u001b[49m\u001b[38;5;241;43m2\u001b[39;49m\u001b[43m \u001b[49m\u001b[38;5;241;43m==\u001b[39;49m\u001b[43m \u001b[49m\u001b[38;5;241;43m0\u001b[39;49m\u001b[43m)\u001b[49m\u001b[43m,\u001b[49m\u001b[43m \u001b[49m\u001b[43mlist1\u001b[49m\u001b[43m)\u001b[49m\u001b[43m)\u001b[49m\n\u001b[0;32m      4\u001b[0m \u001b[38;5;28mprint\u001b[39m(\u001b[38;5;124m\"\u001b[39m\u001b[38;5;124mEven numbers in the list: \u001b[39m\u001b[38;5;124m\"\u001b[39m, even_no)\n",
      "\u001b[1;31mTypeError\u001b[0m: 'list' object is not callable"
     ]
    }
   ],
   "source": [
    "list1 = [11,23,45,23,64,22,11,24]\n",
    "# lambda exp.\n",
    "even_no = list(filter(lambda x: (x % 2 == 0), list1))\n",
    "print(\"Even numbers in the list: \", even_no)"
   ]
  },
  {
   "cell_type": "markdown",
   "metadata": {
    "id": "KkRJWytRG-G9"
   },
   "source": [
    "# 17) WAP to find tuples which have all elements divisible by K from a list of tuples."
   ]
  },
  {
   "cell_type": "code",
   "execution_count": null,
   "metadata": {
    "id": "zxa_T61kG-G_"
   },
   "outputs": [],
   "source": []
  },
  {
   "cell_type": "markdown",
   "metadata": {
    "id": "w9-ZoaSPG-HA"
   },
   "source": [
    "# 18) WAP to covert tuple into list by adding the given string after every element."
   ]
  },
  {
   "cell_type": "code",
   "execution_count": null,
   "metadata": {
    "id": "kp_ewiUoG-HB"
   },
   "outputs": [],
   "source": []
  },
  {
   "cell_type": "markdown",
   "metadata": {
    "id": "Kb0K15vDG-HB"
   },
   "source": [
    "# 19) WAP to sort python dictionary by key or value."
   ]
  },
  {
   "cell_type": "code",
   "execution_count": null,
   "metadata": {
    "id": "mPQhWcuvG-HC"
   },
   "outputs": [],
   "source": []
  },
  {
   "cell_type": "markdown",
   "metadata": {
    "id": "QQgUF-1iG-HD"
   },
   "source": [
    "# 20) WAP to merge two dictionaries given by user."
   ]
  },
  {
   "cell_type": "code",
   "execution_count": null,
   "metadata": {
    "id": "6suV-zTuG-HD"
   },
   "outputs": [],
   "source": []
  },
  {
   "cell_type": "markdown",
   "metadata": {
    "id": "QQgUF-1iG-HD"
   },
   "source": [
    "# 21) WAP to merge two sets given by user."
   ]
  },
  {
   "cell_type": "code",
   "execution_count": null,
   "metadata": {
    "id": "6suV-zTuG-HD"
   },
   "outputs": [],
   "source": []
  },
  {
   "cell_type": "markdown",
   "metadata": {
    "id": "QQgUF-1iG-HD"
   },
   "source": [
    "# 22) WAP to find intersection of two sets given by user. "
   ]
  },
  {
   "cell_type": "code",
   "execution_count": null,
   "metadata": {
    "id": "6suV-zTuG-HD"
   },
   "outputs": [],
   "source": []
  }
 ],
 "metadata": {
  "colab": {
   "name": "Python (Lab - 03) (List) - Payal Parmar.ipynb",
   "provenance": []
  },
  "kernelspec": {
   "display_name": "Python 3",
   "language": "python",
   "name": "python3"
  },
  "language_info": {
   "codemirror_mode": {
    "name": "ipython",
    "version": 3
   },
   "file_extension": ".py",
   "mimetype": "text/x-python",
   "name": "python",
   "nbconvert_exporter": "python",
   "pygments_lexer": "ipython3",
   "version": "3.8.8"
  }
 },
 "nbformat": 4,
 "nbformat_minor": 1
}
