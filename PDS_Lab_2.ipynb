{
  "cells": [
    {
      "cell_type": "markdown",
      "metadata": {
        "id": "view-in-github",
        "colab_type": "text"
      },
      "source": [
        "<a href=\"https://colab.research.google.com/github/kevalRabadiya/Python-Lab/blob/main/PDS_Lab_2.ipynb\" target=\"_parent\"><img src=\"https://colab.research.google.com/assets/colab-badge.svg\" alt=\"Open In Colab\"/></a>"
      ]
    },
    {
      "cell_type": "markdown",
      "metadata": {
        "id": "E2KBCT60SQES"
      },
      "source": [
        "\n",
        "___\n",
        "\n",
        "<a href='https://www.darshan.ac.in/'> <img src='https://gtu.darshan.ac.in/Upload/Logo/DIET_Logo.svg' /></a>\n",
        "___\n",
        "<pre>\n",
        "<center><b>Python for Data Science - 3150713</b></center>\n",
        "<center><b>Lab - 2</b></center>\n",
        "<center><i>Rewrite all the programs of Lab-1 with Function</i></center> \n",
        "<pre>"
      ]
    },
    {
      "cell_type": "markdown",
      "metadata": {
        "id": "g8tNcpP4SQEh"
      },
      "source": [
        "# 01) WAP to add two numbers entered by user"
      ]
    },
    {
      "cell_type": "code",
      "execution_count": 1,
      "metadata": {
        "colab": {
          "base_uri": "https://localhost:8080/"
        },
        "id": "AKmBb6RDSQEj",
        "outputId": "ec11ad6a-157c-4217-aff2-4e6ce22982ca"
      },
      "outputs": [
        {
          "output_type": "stream",
          "name": "stdout",
          "text": [
            "13\n"
          ]
        }
      ],
      "source": [
        "def sum(a,b):\n",
        "  sum = a+b\n",
        "  print(sum)\n",
        "sum(4,9)  "
      ]
    },
    {
      "cell_type": "markdown",
      "metadata": {
        "id": "K339gqFLSQEl"
      },
      "source": [
        "# 02) WAP to calculate simple interest."
      ]
    },
    {
      "cell_type": "code",
      "execution_count": 3,
      "metadata": {
        "colab": {
          "base_uri": "https://localhost:8080/"
        },
        "id": "Z3sEy9jXSQEm",
        "outputId": "602ccc86-16af-4ec1-ddbe-1560ba596247"
      },
      "outputs": [
        {
          "output_type": "stream",
          "name": "stdout",
          "text": [
            "Enter principal amount : 45\n",
            "Enter annual rate : 8\n",
            "Enter deration in years : 7\n",
            "Interest = 25.2\n"
          ]
        }
      ],
      "source": [
        "def Interest():\n",
        "     p = int(input(\"Enter principal amount : \"))\n",
        "     r = int(input(\"Enter annual rate : \"))\n",
        "     n = int(input(\"Enter deration in years : \"))\n",
        "     interestdef = (p * r * n) / 100\n",
        "     print(\"Interest =\", interestdef)\n",
        "\n",
        "\n",
        "Interest()"
      ]
    },
    {
      "cell_type": "markdown",
      "metadata": {
        "id": "Q0rS4N-TSQEm"
      },
      "source": [
        "# 03) WAP to calculate area of circle."
      ]
    },
    {
      "cell_type": "code",
      "execution_count": 4,
      "metadata": {
        "colab": {
          "base_uri": "https://localhost:8080/"
        },
        "id": "pwsTurO1SQEq",
        "outputId": "8d99298d-d637-4e9e-ceff-22d7c3129c7b"
      },
      "outputs": [
        {
          "output_type": "stream",
          "name": "stdout",
          "text": [
            "Enter radius : 45\n",
            "6361.725123519332\n"
          ]
        }
      ],
      "source": [
        "import math\n",
        "def circlearea():\n",
        "\n",
        "   r = int(input(\"Enter radius : \"))\n",
        "   area = math.pi * r * r\n",
        "   print(area)\n",
        "\n",
        "circlearea()   "
      ]
    },
    {
      "cell_type": "markdown",
      "metadata": {
        "id": "VRoPbsqMSQEr"
      },
      "source": [
        "# 04) WAP to print Multiplication table of given number without using loop."
      ]
    },
    {
      "cell_type": "code",
      "execution_count": null,
      "metadata": {
        "id": "I0uTUL-SSQEt"
      },
      "outputs": [],
      "source": [
        ""
      ]
    },
    {
      "cell_type": "markdown",
      "metadata": {
        "id": "knmv8Q0SSQEu"
      },
      "source": [
        "# 05) WAP to check whether the given number is positive or negative."
      ]
    },
    {
      "cell_type": "code",
      "execution_count": null,
      "metadata": {
        "id": "P5piAhcLSQEv"
      },
      "outputs": [],
      "source": [
        ""
      ]
    },
    {
      "cell_type": "markdown",
      "metadata": {
        "id": "xGWcUfHeSQEx"
      },
      "source": [
        "# 06) WAP to find out largest number from given three numbers."
      ]
    },
    {
      "cell_type": "code",
      "execution_count": null,
      "metadata": {
        "id": "w41XCi_nSQEz"
      },
      "outputs": [],
      "source": [
        ""
      ]
    },
    {
      "cell_type": "markdown",
      "metadata": {
        "id": "syvIU6_qSQE1"
      },
      "source": [
        "# 07) WAP to implement simple calculator which performs (add,sub,mul,div) of two numbers based on user input."
      ]
    },
    {
      "cell_type": "code",
      "execution_count": null,
      "metadata": {
        "id": "_42mhle4SQE2"
      },
      "outputs": [],
      "source": [
        ""
      ]
    },
    {
      "cell_type": "markdown",
      "metadata": {
        "id": "WjpzXIImSQE3"
      },
      "source": [
        "# 08) WAP to print 1 to n"
      ]
    },
    {
      "cell_type": "code",
      "execution_count": null,
      "metadata": {
        "id": "iFWOr-rASQE5"
      },
      "outputs": [],
      "source": [
        ""
      ]
    },
    {
      "cell_type": "markdown",
      "metadata": {
        "id": "idy9L9fwSQE6"
      },
      "source": [
        "# 09) WAP to print odd numbers between 1 to n"
      ]
    },
    {
      "cell_type": "code",
      "execution_count": null,
      "metadata": {
        "id": "jppcRLPpSQE7"
      },
      "outputs": [],
      "source": [
        ""
      ]
    },
    {
      "cell_type": "markdown",
      "metadata": {
        "id": "vqpbwl5oSQE-"
      },
      "source": [
        "# 10) WAP to print sum of series 1–2+3–4+5–6+7...n"
      ]
    },
    {
      "cell_type": "code",
      "execution_count": null,
      "metadata": {
        "id": "7Asn0HbQSQFC"
      },
      "outputs": [],
      "source": [
        ""
      ]
    },
    {
      "cell_type": "markdown",
      "metadata": {
        "id": "O2lJ7vrmSQFD"
      },
      "source": [
        "# 11) WAP to print multiplication table of given number."
      ]
    },
    {
      "cell_type": "code",
      "execution_count": null,
      "metadata": {
        "id": "UxEncH0zSQFF"
      },
      "outputs": [],
      "source": [
        ""
      ]
    },
    {
      "cell_type": "markdown",
      "metadata": {
        "id": "Vl4X3EH1SQFG"
      },
      "source": [
        "# 12) WAP to find factorial of the given number."
      ]
    },
    {
      "cell_type": "code",
      "execution_count": null,
      "metadata": {
        "id": "DCiquQN-SQFH"
      },
      "outputs": [],
      "source": [
        ""
      ]
    },
    {
      "cell_type": "markdown",
      "metadata": {
        "id": "QdsgqtVFSQFH"
      },
      "source": [
        "# 13) WAP to find factors of the given number."
      ]
    },
    {
      "cell_type": "code",
      "execution_count": null,
      "metadata": {
        "id": "yvUcfafpSQFI"
      },
      "outputs": [],
      "source": [
        ""
      ]
    },
    {
      "cell_type": "markdown",
      "metadata": {
        "id": "0axPG5ewSQFI"
      },
      "source": [
        "# 14) WAP to find whether the given number is prime or not."
      ]
    },
    {
      "cell_type": "code",
      "execution_count": null,
      "metadata": {
        "id": "4cZHCtJaSQFI"
      },
      "outputs": [],
      "source": [
        ""
      ]
    },
    {
      "cell_type": "markdown",
      "metadata": {
        "id": "lXxFWX2-SQFI"
      },
      "source": [
        "# 15) WAP to print sum of digits of given number."
      ]
    },
    {
      "cell_type": "code",
      "execution_count": null,
      "metadata": {
        "id": "oRomHfzESQFJ"
      },
      "outputs": [],
      "source": [
        ""
      ]
    },
    {
      "cell_type": "markdown",
      "metadata": {
        "id": "cV8KhY0JSQFJ"
      },
      "source": [
        "# 16) WAP to find out prime numbers between given two numbers."
      ]
    },
    {
      "cell_type": "code",
      "execution_count": null,
      "metadata": {
        "id": "Vk4TRF7ZSQFJ"
      },
      "outputs": [],
      "source": [
        ""
      ]
    },
    {
      "cell_type": "markdown",
      "metadata": {
        "id": "-uTlag_BSQFJ"
      },
      "source": [
        "# 17) WAP to print Fibonacci series up to number given by user."
      ]
    },
    {
      "cell_type": "code",
      "execution_count": null,
      "metadata": {
        "id": "jvBANTmvSQFK"
      },
      "outputs": [],
      "source": [
        ""
      ]
    },
    {
      "cell_type": "markdown",
      "metadata": {
        "id": "nkvyE5ZUSQFK"
      },
      "source": [
        "# 18) WAP to Find largest prime factor of given number."
      ]
    },
    {
      "cell_type": "code",
      "execution_count": null,
      "metadata": {
        "id": "af9v_zm6SQFK"
      },
      "outputs": [],
      "source": [
        ""
      ]
    },
    {
      "cell_type": "markdown",
      "metadata": {
        "id": "vg2IrLULSQFL"
      },
      "source": [
        "# 19) WAP to print sum for cube of first n natural numbers."
      ]
    },
    {
      "cell_type": "code",
      "execution_count": null,
      "metadata": {
        "id": "3dEVhVQuSQFL"
      },
      "outputs": [],
      "source": [
        ""
      ]
    },
    {
      "cell_type": "markdown",
      "metadata": {
        "id": "uhgzAE-9SQFL"
      },
      "source": [
        "# 20) WAP to converts the given decimal number to its binary equivalent.\n",
        "\n"
      ]
    },
    {
      "cell_type": "code",
      "execution_count": null,
      "metadata": {
        "id": "Q47AX_uQSQFM"
      },
      "outputs": [],
      "source": [
        ""
      ]
    },
    {
      "cell_type": "markdown",
      "metadata": {
        "id": "UBzEdwIXSQFM"
      },
      "source": [
        "# 21) WAP to print following pattern\n",
        "\n",
        "<pre>\n",
        "*\n",
        "* *\n",
        "* * *\n",
        "* * * *\n",
        "</pre>\n"
      ]
    },
    {
      "cell_type": "code",
      "execution_count": null,
      "metadata": {
        "id": "qfD06iZESQFN"
      },
      "outputs": [],
      "source": [
        ""
      ]
    },
    {
      "cell_type": "markdown",
      "metadata": {
        "id": "dvO7COAKSQFN"
      },
      "source": [
        "# 22) WAP to print following pattern\n",
        "\n",
        "<pre>$ $ $ $\n",
        "$ $ $\n",
        "$ $\n",
        "$</pre>\n"
      ]
    },
    {
      "cell_type": "code",
      "execution_count": null,
      "metadata": {
        "id": "B-huNOBfSQFN"
      },
      "outputs": [],
      "source": [
        ""
      ]
    },
    {
      "cell_type": "markdown",
      "metadata": {
        "id": "jVFCIAkOSQFO"
      },
      "source": [
        "# 23) WAP to print following pattern\n",
        "\n",
        "<pre>\n",
        "# # # # #\n",
        "  # # #\n",
        "    #\n",
        "  # # #\n",
        "# # # # #\n",
        "</pre>\n"
      ]
    },
    {
      "cell_type": "code",
      "execution_count": null,
      "metadata": {
        "id": "BZp0T6TcSQFO"
      },
      "outputs": [],
      "source": [
        ""
      ]
    },
    {
      "cell_type": "markdown",
      "metadata": {
        "id": "3WtxP3eSSQFO"
      },
      "source": [
        "# 24) WAP to print following pattern\n",
        "\n",
        "<pre>\n",
        "1\n",
        "2 3\n",
        "4 5 6\n",
        "7 8 9 10\n",
        "</pre>\n"
      ]
    },
    {
      "cell_type": "code",
      "execution_count": null,
      "metadata": {
        "id": "mVOR3wLzSQFO"
      },
      "outputs": [],
      "source": [
        ""
      ]
    }
  ],
  "metadata": {
    "kernelspec": {
      "display_name": "Python 3 (ipykernel)",
      "language": "python",
      "name": "python3"
    },
    "language_info": {
      "codemirror_mode": {
        "name": "ipython",
        "version": 3
      },
      "file_extension": ".py",
      "mimetype": "text/x-python",
      "name": "python",
      "nbconvert_exporter": "python",
      "pygments_lexer": "ipython3",
      "version": "3.9.7"
    },
    "colab": {
      "name": "PDS - Lab - 2.ipynb",
      "provenance": [],
      "collapsed_sections": [],
      "include_colab_link": true
    }
  },
  "nbformat": 4,
  "nbformat_minor": 0
}